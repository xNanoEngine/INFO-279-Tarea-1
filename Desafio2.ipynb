{
 "cells": [
  {
   "cell_type": "code",
   "execution_count": 1,
   "metadata": {},
   "outputs": [],
   "source": [
    "import os\n",
    "from openai import OpenAI\n",
    "import pandas as pd\n",
    "import spacy\n",
    "# import requests\n",
    "# from spacy.matcher import Matcher\n",
    "# from spacy import displacy\n",
    "# from transformers import pipeline\n",
    "# from transformers import T5ForConditionalGeneration, T5Tokenizer\n",
    "from geopy.geocoders import Nominatim\n",
    "import re"
   ]
  },
  {
   "cell_type": "code",
   "execution_count": 2,
   "metadata": {},
   "outputs": [],
   "source": [
    "client = OpenAI(\n",
    "    api_key=os.environ.get(\"OPENAI_API_KEY\") or \"\",\n",
    ") \n",
    "noticias_agosto = 'test_data2.csv'  \n",
    "df = pd.read_csv(noticias_agosto, encoding='utf-8')\n",
    "nlp = spacy.load(\"es_core_news_sm\")\n"
   ]
  },
  {
   "cell_type": "code",
   "execution_count": 3,
   "metadata": {},
   "outputs": [],
   "source": [
    "def crear_prompt(text):\n",
    "    \"\"\"Crear el prompt para el modelo de chat.\"\"\"\n",
    "    return (\n",
    "        f\"Hola, te entregaré el siguiente fragmento de una noticia y necesito que me \"\n",
    "        f\"entregues el evento principal , la ubicación y la categoria, la categoria tiene que estar estrictamente en este formato: \"\n",
    "        f\"sociedad, salud, politica, medioambiente, internacional, entretenimiento, economia, deportes, cultura, cienciatecnologia\"\n",
    "        f\"Clasificala solo con una categoria.\"\n",
    "        f\" Estas dámelas separadas con un /, es decir Evento: .... / Ubicación: .... / Categoria: ....\"\n",
    "        f\"La ubicación debe estar en el \"\n",
    "        f\"siguiente formato y contener tantos detalles como sea posible: \\n\\n\"\n",
    "        f\"Lugar, Ciudad, País\"\n",
    "        f\"Si no encuentras ciudad o lugar, solo coloca el país; si no encuentras ninguno de esos 3 coloca Chile solamente.\"\n",
    "        f\"No utilices conectores ni palabras como población, localidad, comunidad, etc...\"\n",
    "        f\"Este es el texto: \\\"{text}\\\". \"\n",
    "        f\"Por favor, dame la respuesta siguiendo estrictamente este formato.\"\n",
    "    )"
   ]
  },
  {
   "cell_type": "code",
   "execution_count": 4,
   "metadata": {},
   "outputs": [],
   "source": [
    "def obtener_respuesta(prompt, client):\n",
    "    \"\"\"Obtener la respuesta del modelo de chat.\"\"\"\n",
    "    chat_completion = client.chat.completions.create(\n",
    "        messages=[\n",
    "            {\n",
    "                \"role\": \"user\",\n",
    "                \"content\": prompt \n",
    "            }\n",
    "        ],\n",
    "        model=\"gpt-3.5-turbo\",\n",
    "    )\n",
    "    return chat_completion.choices[0].message.content"
   ]
  },
  {
   "cell_type": "code",
   "execution_count": 5,
   "metadata": {},
   "outputs": [],
   "source": [
    "palabras_no_deseadas = [\"villa\", \"población\", \"comuna\", \"sector\", \"avenida\", \"calle\", \"pasaje\"]\n",
    "\n",
    "def extraer_nombres_propios_sin_adp(texto):\n",
    "    doc = nlp(texto)\n",
    "\n",
    "    # Filtrar nombres propios (PROPN) y eliminar las preposiciones (ADP)\n",
    "    nombres_limpios = [token.text for token in doc if token.pos_ == \"PROPN\" and token.text.lower() not in palabras_no_deseadas]\n",
    "    \n",
    "    return \" \".join(nombres_limpios)\n"
   ]
  },
  {
   "cell_type": "code",
   "execution_count": 6,
   "metadata": {},
   "outputs": [],
   "source": [
    "def procesar_mensaje(mensaje):\n",
    "    lineas = mensaje.split(\"/\")\n",
    "    \n",
    "    if len(lineas) < 2:  # Verificar que haya al menos 2 líneas (evento y ubicación)\n",
    "        print(f\"Formato inesperado en el mensaje: {mensaje}\")\n",
    "        return None, None, None  # O lanza una excepción, dependiendo de tu lógica\n",
    "    \n",
    "    # Asegurarte de que cada línea tenga el formato esperado\n",
    "    evento = lineas[0].split(\": \")[1] if len(lineas[0].split(\": \")) > 1 else \"No disponible\"\n",
    "    ubicacion = lineas[1].split(\": \")[1] if len(lineas[1].split(\": \")) > 1 else \"No disponible\"\n",
    "    categoria = lineas[2].split(\": \")[1] if len(lineas) > 2 and len(lineas[2].split(\": \")) > 1 else \"No disponible\"\n",
    "\n",
    "    return evento, ubicacion, categoria\n",
    "    "
   ]
  },
  {
   "cell_type": "code",
   "execution_count": 13,
   "metadata": {},
   "outputs": [],
   "source": [
    "def cordenadas(ubicacion):\n",
    "    \"\"\"Obtener las coordenadas de la ubicación usando Nominatim.\"\"\"\n",
    "    geolocator = Nominatim(user_agent=\"Sophia\", timeout=10)  \n",
    "    location = geolocator.geocode(ubicacion)\n",
    "    print(location)\n",
    "    if location:\n",
    "        return location.address, location.latitude, location.longitude\n",
    "    else:\n",
    "        return None, None, None\n",
    "\n"
   ]
  },
  {
   "cell_type": "markdown",
   "metadata": {},
   "source": [
    "##### Obtener evento de la noticia\n",
    "\n",
    "Para este enfoque se utilizo openai (aunque antes se utilizo matcher y transformers tambien, los cuales en algunos casos se comportaban bien, pero cuando la noticia cambiaba mucho o estaba escrita de diferentes formas la calidad de la respuesta decaia), la idea es preguntar a openai y aprovechar sus funcionalidades al maximo para obtener una respuesta de buena calidad."
   ]
  },
  {
   "cell_type": "code",
   "execution_count": 8,
   "metadata": {},
   "outputs": [
    {
     "name": "stdout",
     "output_type": "stream",
     "text": [
      "Mensaje recibido: Evento: Balacera en Quilicura deja un muerto y dos heridos / Ubicación: San Ignacio con Cerro Los Cóndores, Quilicura, Chile / Categoria: sociedad\n",
      "Mensaje recibido: Evento: Protesta de vecinos en Población Manuel Rodríguez / Ubicación: La Calera, Chile / Categoria: sociedad\n",
      "Mensaje recibido: Evento:Festival Nacional de Cine de Estudiantes Secundarios (FESCIES) 2024 / Ubicación:Valparaíso, Chile / Categoria:cultura\n",
      "Mensaje recibido: Evento: Masivo operativo de la PDI y Carabineros en La Pintana / Ubicación: Villa La Orquesta, La Pintana, Chile / Categoria: sociedad\n",
      "Mensaje recibido: Evento: Anuncio de lista de interesados para explotar litio en Chile / Ubicación: Chile / Categoria: economia\n",
      "Mensaje recibido: Evento: Operativo por violencia intrafamiliar (VIF) en La Florida / Ubicación: Los Quillayes, La Florida, Chile / Categoria: sociedad\n",
      "Mensaje recibido: Evento: Retroceso del dólar en mercado cambiario local / Ubicación: Chile / Categoria: economía\n",
      "Mensaje recibido: Evento: Hombre muere apuñalado tras intento de asalto / Ubicación: Avenida San Alberto Hurtado, intersección con calle Arica, Estación Central, Chile / Categoria: sociedad\n",
      "Mensaje recibido: Evento: Capacitacion sobre prevencion de violencia y acoso laboral / Ubicación: Chile / Categoria: salud\n",
      "Mensaje recibido: Evento: Gestiones en el marco del acuerdo que levantó la querella por estafa / Ubicación: Chile / Categoria: politica\n",
      "Mensaje recibido: Evento: Joven machi de Melipeuco candidato a concejal / Ubicación: Llaima Mapu, Melipeuco, Chile / Categoria: sociedad\n",
      "Mensaje recibido: Evento: Ministerio Público entregará contenido íntegro del celular de Luis Hermosilla a su defensa / Ubicación: Chile / Categoria: sociedad\n",
      "Mensaje recibido: Evento: Operativo policial en Villa La Orquesta / Ubicación: Ancud, Región de Los Lagos, Chile / Categoria: sociedad\n",
      "Mensaje recibido: Evento: Capacitación a guías fluviales de Valdivia / Ubicación: Valdivia, Chile / Categoria: medioambiente\n",
      "Mensaje recibido: Evento: Entrega de lancha ambulancia Libertad II en la isla de Chelín / Ubicación: Isla Chelín, Castro, Chile / Categoria: Salud\n",
      "Mensaje recibido: Evento: Asalto a restobar en la comuna de San Miguel / Ubicación: Ureta Cox con Chiloé, Santiago, Chile / Categoria: sociedad\n",
      "Mensaje recibido: Evento: Modificación legal para realizar Elecciones Municipales y Regionales en dos días / Ubicación: Chile / Categoria: politica\n",
      "Mensaje recibido: Evento: Jornada de actividades \"Manos al Cerro\" / Ubicación: Cerro Patagual, Pocuro, Chile / Categoria: medioambiente\n",
      "Mensaje recibido: Evento: Fallecimiento del concejal Francisco Millán / Ubicación: Quemchi, Chile / Categoria: sociedad\n",
      "Mensaje recibido: Evento: Asesinato de ciudadano peruano en comuna de Estación Central / Ubicación: Calle San Alberto Hurtado con Arica, Estación Central, Chile / Categoria: sociedad\n",
      "Mensaje recibido: Evento: Masivo operativo en La Orquesta / Ubicación: La Orquesta, La Pintana, Chile / Categoria: sociedad\n",
      "Mensaje recibido: Evento: Lanzamiento oficial de la campaña \"Conductor Valdiviano, Conductor Responsable\" / Ubicación: Cervecería Kunstmann, Valdivia, Chile / Categoria: sociedad\n",
      "Mensaje recibido: Evento: Taller \"Conocimiento y Valoración de la Flora Cordillerana\" / Ubicación: Centro Cultural Huaykilonko, Monte Patria, Chile / Categoria: medioambiente\n",
      "Mensaje recibido: Evento: Aprobación de la Ley de Protección de Datos Personales / Ubicación: Chile / Categoria: politica\n",
      "Mensaje recibido: Evento: Eventos culturales en Santiago / Ubicación: Mall Plaza Vespucio de La Florida, Santiago, Chile / Categoria: cultura\n",
      "Mensaje recibido: Evento: Llegada de sistema frontal con viento y lluvia / Ubicación: Chile / Categoria: medioambiente\n",
      "Mensaje recibido: Evento: Imputados por asociacion ilicita para el trafico de drogas y lavado de activos son dejados en prision preventiva / Ubicación: Ovalle, Chile / Categoria: sociedad\n",
      "Mensaje recibido: Evento: Conmemoración del Día Internacional de las Víctimas de Desapariciones Forzadas / Ubicación: Casa Central de la Universidad Tecnológica Metropolitana, Santiago, Chile / Categoria: sociedad\n",
      "Mensaje recibido: Evento: Pronóstico del tiempo en la Región de Coquimbo / Ubicación: La Serena y Coquimbo, Vicuña, Ovalle, Combarbalá, Illapel y Los Vilos, Chile / Categoria: Medioambiente\n",
      "Mensaje recibido: Evento: Robo de dos camiones cargados con rollos de cobre / Ubicación: Ruta 68, Casablanca, Región de Valparaíso, Chile / Categoria: economia\n",
      "Mensaje recibido: Evento: Defensa de Daniel Jadue solicita la inhabilitación de tres juezas / Ubicación: Santiago, Chile / Categoria: politica\n",
      "Mensaje recibido: Evento: Pedido de recusación de tres juezas en el caso del exalcalde Daniel Jadue / Ubicación: Santiago, Chile / Categoria: sociedad\n",
      "Mensaje recibido: Evento: Conferencia magistral sobre los desafíos actuales de la educación superior pública en Chile / Ubicación: Casa Central de la Universidad Tecnológica Metropolitana, Santiago, Chile / Categoria: sociedad\n",
      "Mensaje recibido: Evento: Caminata de Fernando Jara para recaudar fondos para el tratamiento de su hijo / Ubicación: Antofagasta, Santiago, Valparaíso / Categoria: salud\n",
      "Mensaje recibido: Evento: Entrega de insumos y herramientas a familias beneficiarias del programa Seguridad Alimentaria / Ubicación: Ovalle, Chile / Categoria: sociedad\n",
      "Mensaje recibido: Evento: Fallecimiento de Miguel Eduardo Pereira Zepeda / Ubicación: Población José Tomás Ovalle, Ovalle, Chile / Categoria: sociedad\n",
      "Mensaje recibido: Evento: Entrega de mensajes de WhatsApp de Luis Hermosilla / Ubicación: Chile / Categoria: politica\n",
      "Mensaje recibido: Evento: Conmemoración del Día Internacional de las Víctimas de Desapariciones Forzadas / Ubicación: Memorial del Detenido Desaparecido y del Ejecutado Político del Cementerio General de Santiago, Avenida Recoleta, Santiago, Chile / Categoria: sociedad\n",
      "Mensaje recibido: Evento: Acusación de presiones a candidato en elecciones municipales / Ubicación: Coquimbo, Chile / Categoria: politica\n",
      "Mensaje recibido: Evento: Operativo policial contra banda de trata de personas / Ubicación: Terminal de Buses, Arica, Chile / Categoria: sociedad\n",
      "Mensaje recibido: Evento: Robo a empresa de transportes en Quilicura culmina con un fallecido y dos heridos / Ubicación: Quilicura, Santiago, Chile / Categoria: sociedad\n",
      "Mensaje recibido: Evento: Disparo a delincuente en La Florida / Ubicación: Los Quillayes, La Florida, Región Metropolitana, Chile / Categoria: sociedad\n",
      "Mensaje recibido: Evento: Violento asalto en resto bar / Ubicación: San Miguel, Santiago, Chile / Categoria: sociedad\n",
      "Mensaje recibido: Evento: Detención de sujeto por realizar llamados de alerta sobre artefactos explosivos / Ubicación: Barrio industrial de Coquimbo, Coquimbo, Chile / Categoria: sociedad\n",
      "Mensaje recibido: Evento: Descubrimiento de narcomausoleo / Ubicación: Villa Concierto II, La Pintana, Chile / Categoria: sociedad\n",
      "Mensaje recibido: Evento: Megaoperativo por distintos delitos de homicidio y narcotráfico / Ubicación: La Pintana, Santiago, Chile / Categoria: sociedad\n",
      "Mensaje recibido: Evento: Renuncia de seremi de Los Lagos por ejercer como abogada defensora de narcotraficantes / Ubicación: Chile / Categoria: politica\n",
      "Mensaje recibido: Evento: Pronóstico de lluvias en varias regiones de Chile / Ubicación: Chile / Categoria: medioambiente\n",
      "Mensaje recibido: Evento: Exposición del documental \"Roja Estrella\" / Ubicación: Cineteca Nacional, Centro Cultural La Moneda, Santiago, Chile / Categoria: cultura\n",
      "Mensaje recibido: Evento: Temblor de magnitud 2,6 / Ubicación: Mina Collahuasi, Tarapacá, Chile / Categoria: medioambiente\n"
     ]
    }
   ],
   "source": [
    "resultados = []\n",
    "\n",
    "for index in range(len(df)):\n",
    "    text = df.iloc[index]['text']\n",
    "    if text:\n",
    "        prompt = crear_prompt(text)\n",
    "        mensaje = obtener_respuesta(prompt, client)\n",
    "        evento, ubicacion, categoria = procesar_mensaje(mensaje)\n",
    "        direccion_formateada = extraer_nombres_propios_sin_adp(ubicacion)\n",
    "        direccion, latitud, longitud = cordenadas(direccion_formateada)\n",
    "       \n",
    "            # Guardar los resultados en una lista\n",
    "        resultados.append({\n",
    "                'id_news': df.iloc[index]['id_news'],  \n",
    "                'event': evento,\n",
    "                'category': categoria,\n",
    "                'address': direccion,\n",
    "                'latitud': latitud,\n",
    "                'longitud': longitud\n",
    "            })\n",
    "\n",
    "    # Crear un DataFrame a partir de los resultados\n",
    "resultados_df = pd.DataFrame(resultados)\n",
    "resultados_df.to_csv(\"output.csv\", index=False, encoding='utf-8-sig')\n",
    "\n"
   ]
  }
 ],
 "metadata": {
  "kernelspec": {
   "display_name": "Python 3",
   "language": "python",
   "name": "python3"
  },
  "language_info": {
   "codemirror_mode": {
    "name": "ipython",
    "version": 3
   },
   "file_extension": ".py",
   "mimetype": "text/x-python",
   "name": "python",
   "nbconvert_exporter": "python",
   "pygments_lexer": "ipython3",
   "version": "3.11.9"
  }
 },
 "nbformat": 4,
 "nbformat_minor": 2
}
