{
 "cells": [
  {
   "cell_type": "code",
   "execution_count": 2,
   "metadata": {},
   "outputs": [],
   "source": [
    "import pandas as pd\n",
    "import spacy\n",
    "import random\n",
    "from spacy.training.example import Example\n",
    "from spacy.util import minibatch\n",
    "from spacy.pipeline.tok2vec import DEFAULT_TOK2VEC_MODEL\n"
   ]
  },
  {
   "cell_type": "code",
   "execution_count": null,
   "metadata": {},
   "outputs": [],
   "source": [
    "\n",
    "# Lee el archivo CSV en un DataFrame de pandas\n",
    "df = pd.read_csv(\"dataset_entrenamiento.csv\",thousands=',')\n",
    "# Obtén 1000 filas aleatorias del DataFrame\n",
    "random_rows = df.sample(n=1000, random_state=42)\n",
    "# Encuentra las clases únicas en la columna \"clase\"\n",
    "unique_classes = random_rows[\"target\"].unique()\n",
    "unique_classes\n",
    "\n",
    "# Crea la lista de tuplas con las etiquetas de clases\n",
    "data_list = []\n",
    "for _, row in random_rows.iterrows():\n",
    "    title = row[\"title\"]\n",
    "    clase = row[\"target\"]\n",
    "    cats = {cls: 1 if cls == clase else 0 for cls in unique_classes}\n",
    "    data_list.append((title, {\"cats\": cats}))\n",
    "data_list"
   ]
  },
  {
   "cell_type": "code",
   "execution_count": null,
   "metadata": {},
   "outputs": [],
   "source": [
    "# Datos de entrenamiento\n",
    "TRAIN_DATA = data_list\n",
    "# Inicializar spaCy con el modelo de lenguaje es_core_news_sm\n",
    "nlp = spacy.load(\"es_core_news_sm\")\n",
    "train_examples = []\n",
    "\n",
    "for example in TRAIN_DATA:\n",
    "    train_examples.append(Example.from_dict(nlp.make_doc(example[0]), example[1]))\n",
    "\n",
    "def get_examples():\n",
    "    return train_examples\n",
    "model = {\n",
    "            \"@architectures\": \"spacy.TextCatCNN.v2\",\n",
    "            \"exclusive_classes\": True,\n",
    "            \"tok2vec\": DEFAULT_TOK2VEC_MODEL,\n",
    "        }\n",
    "# Crear un componente TextCategorizer con un modelo CNN\n",
    "textcat = nlp.add_pipe(\"textcat\", config={\"model\": model})\n",
    "textcat.initialize(get_examples)\n",
    "from spacy.util import compounding\n",
    "\n",
    "# Entrenar el modelo\n",
    "with nlp.select_pipes(enable=\"textcat\"):\n",
    "    optimizer = nlp.begin_training()\n",
    "    for epoch in range(100):\n",
    "        losses = {}\n",
    "        random.shuffle(TRAIN_DATA)\n",
    "        # Dividir los datos en lotes y actualizar el modelo\n",
    "        for batch in minibatch(TRAIN_DATA, size=compounding(4.0, 32.0, 1.001)):\n",
    "            texts, annotations = zip(*batch)\n",
    "            example = []\n",
    "            # Actualizar el modelo con iteraciones\n",
    "            for i in range(len(texts)):\n",
    "                doc = nlp.make_doc(texts[i])\n",
    "                example.append(Example.from_dict(doc, annotations[i]))\n",
    "            nlp.update(example, drop=0.5, losses=losses)\n",
    "        print(losses)"
   ]
  },
  {
   "cell_type": "code",
   "execution_count": 10,
   "metadata": {},
   "outputs": [],
   "source": [
    "# Guardar el modelo entrenado en disco\n",
    "nlp.to_disk(\"model_1000_CNNv2\")"
   ]
  },
  {
   "cell_type": "code",
   "execution_count": null,
   "metadata": {},
   "outputs": [],
   "source": [
    "# Cargar el modelo entrenado\n",
    "nlp_loaded = spacy.load(\"model_1000_CNNv2\")#modelo_clasificador_noticias\")\n"
   ]
  },
  {
   "cell_type": "code",
   "execution_count": null,
   "metadata": {},
   "outputs": [],
   "source": [
    "# Realizar predicciones en nuevos titulares\n",
    "nuevos_titulares = [\n",
    "    \"El partido de fútbol se jugará mañana\",\n",
    "    \"Nueva legislación de impuestos aprobada por el gobierno\",\n",
    "    \"Nueva aplicación móvil para seguimiento de ejercicios\",\n",
    "    \"Grave accidente de tráfico en la autopista deja varios heridos\",\n",
    "    \"Avión se estrella en zona montañosa, sobreviven todos los pasajeros\",\n",
    "    \"Incendio en fábrica causa evacuación masiva en la ciudad\",\n",
    "    \"Naufragio de embarcación turística en el mar, varios desaparecidos\",\n",
    "    \"Accidente de tren en la estación central, servicios suspendidos\",\n",
    "    \"Nuevas regulaciones para reducir las emisiones de gases contaminantes en la industria\",\n",
    "    \"Los científicos advierten sobre el aumento del nivel del mar debido al deshielo de los polos\",\n",
    "    \"Proyecto de reforestación masiva busca combatir la deforestación en la Amazonia\",\n",
    "    \"La contaminación del aire en las ciudades alcanza niveles peligrosos para la salud\",\n",
    "    \"Descubren una nueva especie en peligro de extinción en la selva tropical\",\n",
    "    \"Acuerdo internacional para proteger los océanos y conservar la vida marina\",\n",
    "    \"Innovadora tecnología de reciclaje convierte plásticos en materiales reutilizables\",\n",
    "    \"Cambio climático: las temperaturas extremas se vuelven más frecuentes y devastadoras\",\n",
    "    \"Los esfuerzos de conservación salvan a una especie en peligro crítico de desaparecer\",\n",
    "    \"La energía solar y eólica supera a los combustibles fósiles como fuente de electricidad\",\n",
    "]\n",
    "\n",
    "for titular in nuevos_titulares:\n",
    "    doc = nlp_loaded(titular)\n",
    "    print(f\"Titular: {titular}\")\n",
    "    print(\"Categorías predichas:\")\n",
    "    for label, score in doc.cats.items():\n",
    "        print(f\"{label}: {score:.4f}\")"
   ]
  },
  {
   "cell_type": "code",
   "execution_count": null,
   "metadata": {},
   "outputs": [],
   "source": [
    "\n",
    "\n",
    "noticias = 'test_data2.csv'  \n",
    "df = pd.read_csv(noticias, encoding='utf-8')\n",
    "\n",
    "\n",
    "for index in range(len(df)):\n",
    "    text = df.iloc[index]['text']\n",
    "    if text:\n",
    "        doc = nlp_loaded(titular)\n",
    "        for label, score in doc.cats.items():\n",
    "            print(f\"{label}: {score:.4f}\")\n",
    "\n"
   ]
  }
 ],
 "metadata": {
  "kernelspec": {
   "display_name": "Python 3",
   "language": "python",
   "name": "python3"
  },
  "language_info": {
   "codemirror_mode": {
    "name": "ipython",
    "version": 3
   },
   "file_extension": ".py",
   "mimetype": "text/x-python",
   "name": "python",
   "nbconvert_exporter": "python",
   "pygments_lexer": "ipython3",
   "version": "3.11.9"
  }
 },
 "nbformat": 4,
 "nbformat_minor": 2
}
